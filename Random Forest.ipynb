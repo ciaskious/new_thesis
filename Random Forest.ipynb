{
 "cells": [
  {
   "cell_type": "code",
   "execution_count": 24,
   "metadata": {
    "collapsed": true
   },
   "outputs": [],
   "source": [
    "from __future__ import division\n",
    "import random\n",
    "\n",
    "import pandas as pd\n",
    "import numpy as np\n",
    "\n",
    "from imblearn.combine import SMOTETomek\n",
    "from imblearn.under_sampling import TomekLinks\n",
    "from imblearn.over_sampling import SMOTE\n",
    "\n",
    "from sklearn.neighbors import KNeighborsClassifier\n",
    "\n",
    "from sklearn.metrics import precision_recall_curve\n",
    "from sklearn.metrics import average_precision_score\n",
    "from sklearn.metrics import confusion_matrix, make_scorer\n",
    "from mlxtend.feature_selection import SequentialFeatureSelector as sfs\n",
    "%matplotlib inline\n",
    "\n",
    "from sklearn.model_selection import cross_val_score, KFold\n",
    "from sklearn.model_selection import GridSearchCV\n",
    "import matplotlib.pyplot as plt\n",
    "import seaborn as sns\n",
    "plt.style.use('ggplot')\n",
    "from collections import Counter\n",
    "import os\n",
    "\n",
    "home_dir = os.getcwd()"
   ]
  },
  {
   "cell_type": "markdown",
   "metadata": {},
   "source": [
    "# Data preparation"
   ]
  },
  {
   "cell_type": "code",
   "execution_count": null,
   "metadata": {
    "collapsed": true
   },
   "outputs": [],
   "source": [
    "initial_data = pd.read_csv(home_dir + '/initial_dataset')\n",
    "\n",
    "init_target_y = initial_data.iloc[:, 0]  # First column in labels\n",
    "init_data_x = initial_data.drop(initial_data.columns[0], axis=1)  # First column in labels\n",
    "    \n",
    "    \n",
    "sns.countplot('class', data = init_data_x)\n",
    "plt.title('Training: Anomaly (1) vs. Normal (0)')\n",
    "plt.show()"
   ]
  },
  {
   "cell_type": "code",
   "execution_count": null,
   "metadata": {
    "collapsed": true
   },
   "outputs": [],
   "source": [
    "test_set = pd.read_csv(home_dir + '/scania/test_set_new.csv')"
   ]
  },
  {
   "cell_type": "code",
   "execution_count": null,
   "metadata": {
    "collapsed": true
   },
   "outputs": [],
   "source": [
    "model = RandomForestClassifier(criterion=\"entropy\", n_estimators=50)"
   ]
  },
  {
   "cell_type": "code",
   "execution_count": null,
   "metadata": {
    "collapsed": false
   },
   "outputs": [],
   "source": []
  },
  {
   "cell_type": "code",
   "execution_count": 11,
   "metadata": {
    "collapsed": false
   },
   "outputs": [
    {
     "data": {
      "text/plain": [
       "{'max_depth': 30,\n",
       " 'min_samples_leaf': 1,\n",
       " 'min_samples_split': 2,\n",
       " 'n_estimators': 800}"
      ]
     },
     "execution_count": 11,
     "metadata": {},
     "output_type": "execute_result"
    }
   ],
   "source": [
    "n_estimators = [100, 300, 500, 800, 1200]\n",
    "max_depth = [5, 8, 15, 25, 30]\n",
    "min_samples_split = [2, 5, 10, 15, 100]\n",
    "min_samples_leaf = [1, 2, 5, 10] \n",
    "\n",
    "hyperF = dict(n_estimators = n_estimators, max_depth = max_depth,  \n",
    "              min_samples_split = min_samples_split, \n",
    "             min_samples_leaf = min_samples_leaf)\n",
    "\n",
    "gridF = GridSearchCV(clf, hyperF, scoring=\"f1\", cv = 5, verbose = 1, \n",
    "                      n_jobs = -1)\n",
    "bestF = gridF.fit(x_train_less_feat, y_train)\n",
    "\n",
    "gridF.best_params_"
   ]
  },
  {
   "cell_type": "code",
   "execution_count": 17,
   "metadata": {
    "collapsed": false
   },
   "outputs": [
    {
     "name": "stdout",
     "output_type": "stream",
     "text": [
      "Average precision-recall score: 0.27\n",
      "cost_1_instances are 568\n",
      "cost_2_instances are 18\n",
      "Correct normal predictions are 14182\n",
      "Correct anomaly predictions are 232\n",
      "Total Cost is 14680\n",
      "Accuracy of Random forest after GridSearch is 96.09333 %\n"
     ]
    },
    {
     "data": {
      "image/png": "[encoded data removed]",
      "text/plain": [
       "<Figure size 432x288 with 1 Axes>"
      ]
     },
     "metadata": {
      "needs_background": "light"
     },
     "output_type": "display_data"
    }
   ],
   "source": [
    "best_grid = gridF.best_estimator_\n",
    "#predictions = best_grid.predict(x_test_less_feat)\n",
    "    # predictions = np.round(predictions)\n",
    "\n",
    "prediction_prob = best_grid.predict_proba(x_test_less_feat)\n",
    "       \n",
    "predictions = []\n",
    "true_labels = []\n",
    "for pr in prediction_prob:\n",
    "    if pr[0] > 0.95:\n",
    "        predictions.append(0)  # Neg\n",
    "    else:\n",
    "        predictions.append(1)  # Pos\n",
    "\n",
    "accuracy = 0\n",
    "for i in range(0, len(predictions)):\n",
    "    if predictions[i] == y_test[i]:\n",
    "        accuracy +=1\n",
    "\n",
    "\n",
    "conf_mat = confusion_matrix(y_test, predictions)        \n",
    "average_precision = average_precision_score(y_test, predictions)\n",
    "\n",
    "#find average precision recall\n",
    "print('Average precision-recall score: {0:0.2f}'.format(average_precision))\n",
    "precision, recall, _ = precision_recall_curve(y_test, predictions)\n",
    "\n",
    "    #plot precision recall\n",
    "\n",
    "precision, recall, _ = precision_recall_curve(y_test, predictions)\n",
    "\n",
    "plt.step(recall, precision, color='b', alpha=0.2, where='post')\n",
    "plt.fill_between(recall, precision, step='post', alpha=0.2, color='b')\n",
    "\n",
    "plt.xlabel('Recall')\n",
    "plt.ylabel('Precision')\n",
    "plt.ylim([0.0, 1.05])\n",
    "plt.xlim([0.0, 1.0])\n",
    "plt.title('2-class Precision-Recall curve: AP={0:0.2f}'.format(\n",
    "              average_precision))\n",
    "\n",
    "# write_predictions_to_file(name + '_output.csv.dat', y_test)\n",
    "find_cost(predictions, X_train, X_test, y_train, y_test)\n",
    "# print (\"Accuracy of {} is {} %\".format(name, round((accuracy)*100, 5)))\n",
    "\n",
    "print(\"Accuracy of Random forest after GridSearch is {} %\".format(round((accuracy/len(predictions))*100, 5)))\n"
   ]
  },
  {
   "cell_type": "code",
   "execution_count": null,
   "metadata": {
    "collapsed": true
   },
   "outputs": [],
   "source": []
  }
 ],
 "metadata": {
  "kernelspec": {
   "display_name": "Python 3",
   "language": "python",
   "name": "python3"
  },
  "language_info": {
   "codemirror_mode": {
    "name": "ipython",
    "version": 3
   },
   "file_extension": ".py",
   "mimetype": "text/x-python",
   "name": "python",
   "nbconvert_exporter": "python",
   "pygments_lexer": "ipython3",
   "version": "3.5.4"
  }
 },
 "nbformat": 4,
 "nbformat_minor": 2
}
