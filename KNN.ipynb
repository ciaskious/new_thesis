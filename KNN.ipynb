{
 "cells": [
  {
   "cell_type": "code",
   "execution_count": 8,
   "metadata": {
    "collapsed": false,
    "scrolled": true
   },
   "outputs": [],
   "source": [
    "from __future__ import division\n",
    "import random\n",
    "\n",
    "import pandas as pd\n",
    "import numpy as np\n",
    "\n",
    "from imblearn.combine import SMOTETomek\n",
    "from imblearn.under_sampling import TomekLinks\n",
    "from imblearn.over_sampling import SMOTE\n",
    "\n",
    "from sklearn.neighbors import KNeighborsClassifier\n",
    "\n",
    "from sklearn.metrics import precision_recall_curve\n",
    "from sklearn.metrics import average_precision_score\n",
    "from sklearn.metrics import confusion_matrix, make_scorer\n",
    "from mlxtend.feature_selection import SequentialFeatureSelector as sfs\n",
    "%matplotlib inline\n",
    "\n",
    "from sklearn.model_selection import cross_val_score, KFold\n",
    "from sklearn.model_selection import GridSearchCV\n",
    "import matplotlib.pyplot as plt\n",
    "import seaborn as sns\n",
    "plt.style.use('ggplot')\n",
    "from collections import Counter\n",
    "import os\n",
    "\n",
    "home_dir = os.getcwd()\n"
   ]
  },
  {
   "cell_type": "markdown",
   "metadata": {},
   "source": [
    "# Data preparation"
   ]
  },
  {
   "cell_type": "code",
   "execution_count": 13,
   "metadata": {
    "collapsed": false
   },
   "outputs": [
    {
     "data": {
      "text/html": [
       "<div>\n",
       "<style scoped>\n",
       "    .dataframe tbody tr th:only-of-type {\n",
       "        vertical-align: middle;\n",
       "    }\n",
       "\n",
       "    .dataframe tbody tr th {\n",
       "        vertical-align: top;\n",
       "    }\n",
       "\n",
       "    .dataframe thead th {\n",
       "        text-align: right;\n",
       "    }\n",
       "</style>\n",
       "<table border=\"1\" class=\"dataframe\">\n",
       "  <thead>\n",
       "    <tr style=\"text-align: right;\">\n",
       "      <th></th>\n",
       "      <th>0</th>\n",
       "      <th>1</th>\n",
       "      <th>2</th>\n",
       "      <th>3</th>\n",
       "      <th>4</th>\n",
       "      <th>5</th>\n",
       "      <th>6</th>\n",
       "      <th>7</th>\n",
       "      <th>8</th>\n",
       "      <th>9</th>\n",
       "      <th>...</th>\n",
       "      <th>160</th>\n",
       "      <th>161</th>\n",
       "      <th>162</th>\n",
       "      <th>163</th>\n",
       "      <th>164</th>\n",
       "      <th>165</th>\n",
       "      <th>166</th>\n",
       "      <th>167</th>\n",
       "      <th>168</th>\n",
       "      <th>169</th>\n",
       "    </tr>\n",
       "  </thead>\n",
       "  <tbody>\n",
       "    <tr>\n",
       "      <th>0</th>\n",
       "      <td>3.615349e-03</td>\n",
       "      <td>0.0</td>\n",
       "      <td>0.000000</td>\n",
       "      <td>0.000000e+00</td>\n",
       "      <td>0.0</td>\n",
       "      <td>0.0</td>\n",
       "      <td>0.0</td>\n",
       "      <td>0.0</td>\n",
       "      <td>0.0</td>\n",
       "      <td>0.000000</td>\n",
       "      <td>...</td>\n",
       "      <td>0.030805</td>\n",
       "      <td>1.739484e-02</td>\n",
       "      <td>4.795147e-02</td>\n",
       "      <td>5.279281e-02</td>\n",
       "      <td>1.331823e-02</td>\n",
       "      <td>0.004917</td>\n",
       "      <td>2.386889e-03</td>\n",
       "      <td>0.0</td>\n",
       "      <td>0.0</td>\n",
       "      <td>0.0</td>\n",
       "    </tr>\n",
       "    <tr>\n",
       "      <th>1</th>\n",
       "      <td>1.614488e-07</td>\n",
       "      <td>0.0</td>\n",
       "      <td>1.000000</td>\n",
       "      <td>2.065042e-08</td>\n",
       "      <td>0.0</td>\n",
       "      <td>0.0</td>\n",
       "      <td>0.0</td>\n",
       "      <td>0.0</td>\n",
       "      <td>0.0</td>\n",
       "      <td>0.000004</td>\n",
       "      <td>...</td>\n",
       "      <td>0.000002</td>\n",
       "      <td>2.647009e-07</td>\n",
       "      <td>4.909169e-07</td>\n",
       "      <td>4.421068e-07</td>\n",
       "      <td>8.185077e-07</td>\n",
       "      <td>0.000003</td>\n",
       "      <td>1.595715e-08</td>\n",
       "      <td>0.0</td>\n",
       "      <td>0.0</td>\n",
       "      <td>0.0</td>\n",
       "    </tr>\n",
       "    <tr>\n",
       "      <th>2</th>\n",
       "      <td>4.955494e-06</td>\n",
       "      <td>0.0</td>\n",
       "      <td>0.000002</td>\n",
       "      <td>1.651831e-06</td>\n",
       "      <td>0.0</td>\n",
       "      <td>0.0</td>\n",
       "      <td>0.0</td>\n",
       "      <td>0.0</td>\n",
       "      <td>0.0</td>\n",
       "      <td>0.000000</td>\n",
       "      <td>...</td>\n",
       "      <td>0.000035</td>\n",
       "      <td>1.817014e-05</td>\n",
       "      <td>8.424340e-05</td>\n",
       "      <td>3.303663e-06</td>\n",
       "      <td>0.000000e+00</td>\n",
       "      <td>0.000000</td>\n",
       "      <td>0.000000e+00</td>\n",
       "      <td>0.0</td>\n",
       "      <td>0.0</td>\n",
       "      <td>0.0</td>\n",
       "    </tr>\n",
       "    <tr>\n",
       "      <th>3</th>\n",
       "      <td>3.129575e-05</td>\n",
       "      <td>0.0</td>\n",
       "      <td>0.000056</td>\n",
       "      <td>5.435577e-05</td>\n",
       "      <td>0.0</td>\n",
       "      <td>0.0</td>\n",
       "      <td>0.0</td>\n",
       "      <td>0.0</td>\n",
       "      <td>0.0</td>\n",
       "      <td>0.000262</td>\n",
       "      <td>...</td>\n",
       "      <td>0.000392</td>\n",
       "      <td>5.929720e-05</td>\n",
       "      <td>9.059295e-05</td>\n",
       "      <td>0.000000e+00</td>\n",
       "      <td>0.000000e+00</td>\n",
       "      <td>0.000000</td>\n",
       "      <td>0.000000e+00</td>\n",
       "      <td>0.0</td>\n",
       "      <td>0.0</td>\n",
       "      <td>0.0</td>\n",
       "    </tr>\n",
       "    <tr>\n",
       "      <th>4</th>\n",
       "      <td>5.442549e-04</td>\n",
       "      <td>0.0</td>\n",
       "      <td>0.000011</td>\n",
       "      <td>0.000000e+00</td>\n",
       "      <td>0.0</td>\n",
       "      <td>0.0</td>\n",
       "      <td>0.0</td>\n",
       "      <td>0.0</td>\n",
       "      <td>0.0</td>\n",
       "      <td>0.000826</td>\n",
       "      <td>...</td>\n",
       "      <td>0.001846</td>\n",
       "      <td>1.107719e-03</td>\n",
       "      <td>1.911295e-03</td>\n",
       "      <td>1.173350e-03</td>\n",
       "      <td>1.956116e-03</td>\n",
       "      <td>0.014855</td>\n",
       "      <td>3.201500e-06</td>\n",
       "      <td>0.0</td>\n",
       "      <td>0.0</td>\n",
       "      <td>0.0</td>\n",
       "    </tr>\n",
       "  </tbody>\n",
       "</table>\n",
       "<p>5 rows × 170 columns</p>\n",
       "</div>"
      ],
      "text/plain": [
       "              0    1         2             3    4    5    6    7    8  \\\n",
       "0  3.615349e-03  0.0  0.000000  0.000000e+00  0.0  0.0  0.0  0.0  0.0   \n",
       "1  1.614488e-07  0.0  1.000000  2.065042e-08  0.0  0.0  0.0  0.0  0.0   \n",
       "2  4.955494e-06  0.0  0.000002  1.651831e-06  0.0  0.0  0.0  0.0  0.0   \n",
       "3  3.129575e-05  0.0  0.000056  5.435577e-05  0.0  0.0  0.0  0.0  0.0   \n",
       "4  5.442549e-04  0.0  0.000011  0.000000e+00  0.0  0.0  0.0  0.0  0.0   \n",
       "\n",
       "          9 ...        160           161           162           163  \\\n",
       "0  0.000000 ...   0.030805  1.739484e-02  4.795147e-02  5.279281e-02   \n",
       "1  0.000004 ...   0.000002  2.647009e-07  4.909169e-07  4.421068e-07   \n",
       "2  0.000000 ...   0.000035  1.817014e-05  8.424340e-05  3.303663e-06   \n",
       "3  0.000262 ...   0.000392  5.929720e-05  9.059295e-05  0.000000e+00   \n",
       "4  0.000826 ...   0.001846  1.107719e-03  1.911295e-03  1.173350e-03   \n",
       "\n",
       "            164       165           166  167  168  169  \n",
       "0  1.331823e-02  0.004917  2.386889e-03  0.0  0.0  0.0  \n",
       "1  8.185077e-07  0.000003  1.595715e-08  0.0  0.0  0.0  \n",
       "2  0.000000e+00  0.000000  0.000000e+00  0.0  0.0  0.0  \n",
       "3  0.000000e+00  0.000000  0.000000e+00  0.0  0.0  0.0  \n",
       "4  1.956116e-03  0.014855  3.201500e-06  0.0  0.0  0.0  \n",
       "\n",
       "[5 rows x 170 columns]"
      ]
     },
     "execution_count": 13,
     "metadata": {},
     "output_type": "execute_result"
    }
   ],
   "source": [
    "initial_data = pd.read_csv(home_dir + '/initial_dataset', index_col=0)\n",
    "\n",
    "init_target_y = initial_data.iloc[:, 0]  # First column in labels\n",
    "init_data_x = initial_data.drop(initial_data.columns[0], axis=1)  # First column in labels\n",
    "    \n",
    "init_data_x.head(5)"
   ]
  },
  {
   "cell_type": "code",
   "execution_count": 14,
   "metadata": {
    "collapsed": false
   },
   "outputs": [
    {
     "data": {
      "image/png": "[encoded data removed]",
      "text/plain": [
       "<matplotlib.figure.Figure at 0x7f87621a8ba8>"
      ]
     },
     "metadata": {},
     "output_type": "display_data"
    }
   ],
   "source": [
    "sns.countplot('class', data = initial_data)\n",
    "plt.title('Training: Anomaly (1) vs. Normal (0)')\n",
    "plt.show()"
   ]
  },
  {
   "cell_type": "code",
   "execution_count": 15,
   "metadata": {
    "collapsed": false
   },
   "outputs": [
    {
     "data": {
      "text/html": [
       "<div>\n",
       "<style scoped>\n",
       "    .dataframe tbody tr th:only-of-type {\n",
       "        vertical-align: middle;\n",
       "    }\n",
       "\n",
       "    .dataframe tbody tr th {\n",
       "        vertical-align: top;\n",
       "    }\n",
       "\n",
       "    .dataframe thead th {\n",
       "        text-align: right;\n",
       "    }\n",
       "</style>\n",
       "<table border=\"1\" class=\"dataframe\">\n",
       "  <thead>\n",
       "    <tr style=\"text-align: right;\">\n",
       "      <th></th>\n",
       "      <th>class</th>\n",
       "      <th>0</th>\n",
       "      <th>1</th>\n",
       "      <th>2</th>\n",
       "      <th>3</th>\n",
       "      <th>4</th>\n",
       "      <th>5</th>\n",
       "      <th>6</th>\n",
       "      <th>7</th>\n",
       "      <th>8</th>\n",
       "      <th>...</th>\n",
       "      <th>160</th>\n",
       "      <th>161</th>\n",
       "      <th>162</th>\n",
       "      <th>163</th>\n",
       "      <th>164</th>\n",
       "      <th>165</th>\n",
       "      <th>166</th>\n",
       "      <th>167</th>\n",
       "      <th>168</th>\n",
       "      <th>169</th>\n",
       "    </tr>\n",
       "  </thead>\n",
       "  <tbody>\n",
       "    <tr>\n",
       "      <th>0</th>\n",
       "      <td>0</td>\n",
       "      <td>3.615349e-03</td>\n",
       "      <td>0.0</td>\n",
       "      <td>0.000000</td>\n",
       "      <td>0.000000e+00</td>\n",
       "      <td>0.0</td>\n",
       "      <td>0.0</td>\n",
       "      <td>0.0</td>\n",
       "      <td>0.0</td>\n",
       "      <td>0.0</td>\n",
       "      <td>...</td>\n",
       "      <td>0.030805</td>\n",
       "      <td>1.739484e-02</td>\n",
       "      <td>4.795147e-02</td>\n",
       "      <td>5.279281e-02</td>\n",
       "      <td>1.331823e-02</td>\n",
       "      <td>0.004917</td>\n",
       "      <td>2.386889e-03</td>\n",
       "      <td>0.0</td>\n",
       "      <td>0.0</td>\n",
       "      <td>0.0</td>\n",
       "    </tr>\n",
       "    <tr>\n",
       "      <th>1</th>\n",
       "      <td>0</td>\n",
       "      <td>1.614488e-07</td>\n",
       "      <td>0.0</td>\n",
       "      <td>1.000000</td>\n",
       "      <td>2.065042e-08</td>\n",
       "      <td>0.0</td>\n",
       "      <td>0.0</td>\n",
       "      <td>0.0</td>\n",
       "      <td>0.0</td>\n",
       "      <td>0.0</td>\n",
       "      <td>...</td>\n",
       "      <td>0.000002</td>\n",
       "      <td>2.647009e-07</td>\n",
       "      <td>4.909169e-07</td>\n",
       "      <td>4.421068e-07</td>\n",
       "      <td>8.185077e-07</td>\n",
       "      <td>0.000003</td>\n",
       "      <td>1.595715e-08</td>\n",
       "      <td>0.0</td>\n",
       "      <td>0.0</td>\n",
       "      <td>0.0</td>\n",
       "    </tr>\n",
       "    <tr>\n",
       "      <th>2</th>\n",
       "      <td>0</td>\n",
       "      <td>4.955494e-06</td>\n",
       "      <td>0.0</td>\n",
       "      <td>0.000002</td>\n",
       "      <td>1.651831e-06</td>\n",
       "      <td>0.0</td>\n",
       "      <td>0.0</td>\n",
       "      <td>0.0</td>\n",
       "      <td>0.0</td>\n",
       "      <td>0.0</td>\n",
       "      <td>...</td>\n",
       "      <td>0.000035</td>\n",
       "      <td>1.817014e-05</td>\n",
       "      <td>8.424340e-05</td>\n",
       "      <td>3.303663e-06</td>\n",
       "      <td>0.000000e+00</td>\n",
       "      <td>0.000000</td>\n",
       "      <td>0.000000e+00</td>\n",
       "      <td>0.0</td>\n",
       "      <td>0.0</td>\n",
       "      <td>0.0</td>\n",
       "    </tr>\n",
       "    <tr>\n",
       "      <th>3</th>\n",
       "      <td>0</td>\n",
       "      <td>3.129575e-05</td>\n",
       "      <td>0.0</td>\n",
       "      <td>0.000056</td>\n",
       "      <td>5.435577e-05</td>\n",
       "      <td>0.0</td>\n",
       "      <td>0.0</td>\n",
       "      <td>0.0</td>\n",
       "      <td>0.0</td>\n",
       "      <td>0.0</td>\n",
       "      <td>...</td>\n",
       "      <td>0.000392</td>\n",
       "      <td>5.929720e-05</td>\n",
       "      <td>9.059295e-05</td>\n",
       "      <td>0.000000e+00</td>\n",
       "      <td>0.000000e+00</td>\n",
       "      <td>0.000000</td>\n",
       "      <td>0.000000e+00</td>\n",
       "      <td>0.0</td>\n",
       "      <td>0.0</td>\n",
       "      <td>0.0</td>\n",
       "    </tr>\n",
       "    <tr>\n",
       "      <th>4</th>\n",
       "      <td>0</td>\n",
       "      <td>5.442549e-04</td>\n",
       "      <td>0.0</td>\n",
       "      <td>0.000011</td>\n",
       "      <td>0.000000e+00</td>\n",
       "      <td>0.0</td>\n",
       "      <td>0.0</td>\n",
       "      <td>0.0</td>\n",
       "      <td>0.0</td>\n",
       "      <td>0.0</td>\n",
       "      <td>...</td>\n",
       "      <td>0.001846</td>\n",
       "      <td>1.107719e-03</td>\n",
       "      <td>1.911295e-03</td>\n",
       "      <td>1.173350e-03</td>\n",
       "      <td>1.956116e-03</td>\n",
       "      <td>0.014855</td>\n",
       "      <td>3.201500e-06</td>\n",
       "      <td>0.0</td>\n",
       "      <td>0.0</td>\n",
       "      <td>0.0</td>\n",
       "    </tr>\n",
       "  </tbody>\n",
       "</table>\n",
       "<p>5 rows × 171 columns</p>\n",
       "</div>"
      ],
      "text/plain": [
       "   class             0    1         2             3    4    5    6    7    8  \\\n",
       "0      0  3.615349e-03  0.0  0.000000  0.000000e+00  0.0  0.0  0.0  0.0  0.0   \n",
       "1      0  1.614488e-07  0.0  1.000000  2.065042e-08  0.0  0.0  0.0  0.0  0.0   \n",
       "2      0  4.955494e-06  0.0  0.000002  1.651831e-06  0.0  0.0  0.0  0.0  0.0   \n",
       "3      0  3.129575e-05  0.0  0.000056  5.435577e-05  0.0  0.0  0.0  0.0  0.0   \n",
       "4      0  5.442549e-04  0.0  0.000011  0.000000e+00  0.0  0.0  0.0  0.0  0.0   \n",
       "\n",
       "  ...        160           161           162           163           164  \\\n",
       "0 ...   0.030805  1.739484e-02  4.795147e-02  5.279281e-02  1.331823e-02   \n",
       "1 ...   0.000002  2.647009e-07  4.909169e-07  4.421068e-07  8.185077e-07   \n",
       "2 ...   0.000035  1.817014e-05  8.424340e-05  3.303663e-06  0.000000e+00   \n",
       "3 ...   0.000392  5.929720e-05  9.059295e-05  0.000000e+00  0.000000e+00   \n",
       "4 ...   0.001846  1.107719e-03  1.911295e-03  1.173350e-03  1.956116e-03   \n",
       "\n",
       "        165           166  167  168  169  \n",
       "0  0.004917  2.386889e-03  0.0  0.0  0.0  \n",
       "1  0.000003  1.595715e-08  0.0  0.0  0.0  \n",
       "2  0.000000  0.000000e+00  0.0  0.0  0.0  \n",
       "3  0.000000  0.000000e+00  0.0  0.0  0.0  \n",
       "4  0.014855  3.201500e-06  0.0  0.0  0.0  \n",
       "\n",
       "[5 rows x 171 columns]"
      ]
     },
     "execution_count": 15,
     "metadata": {},
     "output_type": "execute_result"
    }
   ],
   "source": [
    "initial_data.head(5)"
   ]
  },
  {
   "cell_type": "code",
   "execution_count": 16,
   "metadata": {
    "collapsed": false,
    "scrolled": true
   },
   "outputs": [],
   "source": [
    "# X_train, X_test, y_train, y_test, whole_dataset_x, whole_dataset_y "
   ]
  },
  {
   "cell_type": "code",
   "execution_count": 17,
   "metadata": {
    "collapsed": true
   },
   "outputs": [],
   "source": [
    "knn = KNeighborsClassifier(n_neighbors=5)"
   ]
  },
  {
   "cell_type": "markdown",
   "metadata": {},
   "source": [
    "# Grid Search"
   ]
  },
  {
   "cell_type": "code",
   "execution_count": 18,
   "metadata": {
    "collapsed": true
   },
   "outputs": [],
   "source": [
    "n_neighbors = [3, 5, 11, 19, 22, 25, 33]\n",
    "weights = [\"uniform\", \"distance\"]\n",
    "metric = [\"euclidean\", \"manhattan\"]\n",
    "kf = KFold(n_splits=10)"
   ]
  },
  {
   "cell_type": "code",
   "execution_count": 19,
   "metadata": {
    "collapsed": false
   },
   "outputs": [
    {
     "name": "stdout",
     "output_type": "stream",
     "text": [
      "Fitting 10 folds for each of 28 candidates, totalling 280 fits\n"
     ]
    },
    {
     "name": "stderr",
     "output_type": "stream",
     "text": [
      "[Parallel(n_jobs=-1)]: Using backend LokyBackend with 24 concurrent workers.\n",
      "[Parallel(n_jobs=-1)]: Done   2 tasks      | elapsed:  3.6min\n",
      "[Parallel(n_jobs=-1)]: Done 152 tasks      | elapsed: 41.1min\n",
      "[Parallel(n_jobs=-1)]: Done 280 out of 280 | elapsed: 109.4min finished\n"
     ]
    },
    {
     "ename": "NameError",
     "evalue": "name 'grid' is not defined",
     "output_type": "error",
     "traceback": [
      "\u001b[1;31m---------------------------------------------------------------------------\u001b[0m",
      "\u001b[1;31mNameError\u001b[0m                                 Traceback (most recent call last)",
      "\u001b[1;32m<ipython-input-19-815d578b4c35>\u001b[0m in \u001b[0;36m<module>\u001b[1;34m()\u001b[0m\n\u001b[0;32m      5\u001b[0m \u001b[0mgrid_result\u001b[0m \u001b[1;33m=\u001b[0m \u001b[0mgscv\u001b[0m\u001b[1;33m.\u001b[0m\u001b[0mfit\u001b[0m\u001b[1;33m(\u001b[0m\u001b[0minit_data_x\u001b[0m\u001b[1;33m,\u001b[0m \u001b[0minit_target_y\u001b[0m\u001b[1;33m)\u001b[0m\u001b[1;33m\u001b[0m\u001b[0m\n\u001b[0;32m      6\u001b[0m \u001b[1;33m\u001b[0m\u001b[0m\n\u001b[1;32m----> 7\u001b[1;33m \u001b[0mgrid\u001b[0m\u001b[1;33m.\u001b[0m\u001b[0mbest_params_\u001b[0m\u001b[1;33m\u001b[0m\u001b[0m\n\u001b[0m",
      "\u001b[1;31mNameError\u001b[0m: name 'grid' is not defined"
     ]
    }
   ],
   "source": [
    "param_grid = dict(n_neighbors = n_neighbors, weights = weights,metric = metric)\n",
    "\n",
    "gscv = GridSearchCV(knn, param_grid, scoring=\"f1\", cv=kf, verbose = 1, \n",
    "                      n_jobs = -1)\n",
    "grid_result = gscv.fit(init_data_x, init_target_y)\n",
    "\n",
    "grid.best_params_"
   ]
  },
  {
   "cell_type": "code",
   "execution_count": 20,
   "metadata": {
    "collapsed": false
   },
   "outputs": [
    {
     "data": {
      "text/plain": [
       "{'metric': 'manhattan', 'n_neighbors': 3, 'weights': 'distance'}"
      ]
     },
     "execution_count": 20,
     "metadata": {},
     "output_type": "execute_result"
    }
   ],
   "source": [
    "grid_result.best_params_"
   ]
  },
  {
   "cell_type": "code",
   "execution_count": 21,
   "metadata": {
    "collapsed": false
   },
   "outputs": [
    {
     "ename": "AttributeError",
     "evalue": "'GridSearchCV' object has no attribute 'grid_scores_'",
     "output_type": "error",
     "traceback": [
      "\u001b[1;31m---------------------------------------------------------------------------\u001b[0m",
      "\u001b[1;31mAttributeError\u001b[0m                            Traceback (most recent call last)",
      "\u001b[1;32m<ipython-input-21-8739ab0e4608>\u001b[0m in \u001b[0;36m<module>\u001b[1;34m()\u001b[0m\n\u001b[1;32m----> 1\u001b[1;33m \u001b[0mgrid_result\u001b[0m\u001b[1;33m.\u001b[0m\u001b[0mgrid_scores_\u001b[0m\u001b[1;33m\u001b[0m\u001b[0m\n\u001b[0m",
      "\u001b[1;31mAttributeError\u001b[0m: 'GridSearchCV' object has no attribute 'grid_scores_'"
     ]
    }
   ],
   "source": [
    "grid_result.grid_scores_"
   ]
  },
  {
   "cell_type": "code",
   "execution_count": 23,
   "metadata": {
    "collapsed": false
   },
   "outputs": [
    {
     "name": "stdout",
     "output_type": "stream",
     "text": [
      "Best: 0.271663 using {'n_neighbors': 3, 'metric': 'manhattan', 'weights': 'distance'}\n"
     ]
    }
   ],
   "source": [
    "best_knn = grid_result.best_estimator_\n",
    "\n",
    "print(\"Best: %f using %s\" % (grid_result.best_score_, grid_result.best_params_))"
   ]
  },
  {
   "cell_type": "code",
   "execution_count": null,
   "metadata": {
    "collapsed": true
   },
   "outputs": [],
   "source": [
    "prediction_prob = best_grid.predict_proba(x_test_less_feat)\n",
    "       \n",
    "predictions = []\n",
    "true_labels = []\n",
    "for pr in prediction_prob:\n",
    "    if pr[0] > 0.95:\n",
    "        predictions.append(0)  # Neg\n",
    "    else:\n",
    "        predictions.append(1)  # Pos\n",
    "\n",
    "accuracy = 0\n",
    "for i in range(0, len(predictions)):\n",
    "    if predictions[i] == y_test[i]:\n",
    "        accuracy +=1\n",
    "\n",
    "\n",
    "average_precision = average_precision_score(y_test, predictions)\n",
    "\n",
    "\n",
    "total_cost = find_cost(y_test, predictions)"
   ]
  },
  {
   "cell_type": "markdown",
   "metadata": {},
   "source": [
    "####  Evaluation metrics after Grid Search"
   ]
  },
  {
   "cell_type": "code",
   "execution_count": null,
   "metadata": {
    "collapsed": true
   },
   "outputs": [],
   "source": [
    "print(\"Accuracy Score : \",accuracy_score(prediction,y_test))\n",
    "print(\"Total Cost is : \", total_cost)\n",
    "print(\"F1 Score : \",f1_score(y_test, prediction, average=None))\n",
    "print(\"Presicion Score :\",precision_score(y_test, prediction, average=None))\n",
    "print(\"ROC AUC Score :\",roc_auc_score(y_test, prediction))\n",
    "print(\"confusion matrix:\", confusion_matrix(y_test, predictions))\n",
    "print(\"Cross Validation Score :\",cross_val_score(model, whole_dataset_x, whole_dataset_Y, cv=10, n_jobs=-1))  \n",
    "\n"
   ]
  },
  {
   "cell_type": "code",
   "execution_count": null,
   "metadata": {
    "collapsed": true
   },
   "outputs": [],
   "source": [
    "\n"
   ]
  },
  {
   "cell_type": "code",
   "execution_count": null,
   "metadata": {
    "collapsed": true
   },
   "outputs": [],
   "source": []
  },
  {
   "cell_type": "markdown",
   "metadata": {},
   "source": [
    "# Cost Function"
   ]
  },
  {
   "cell_type": "code",
   "execution_count": null,
   "metadata": {
    "collapsed": true
   },
   "outputs": [],
   "source": [
    "def find_cost(y_test,predictions):\n",
    "    normal_false = 0\n",
    "    anomaly_false = 0\n",
    "    normal_correct = 0\n",
    "    anomaly_correct = 0\n",
    "    for i in range(0, len(predictions)):\n",
    "        if predictions[i] == 0 and y_test[i] == 1:  # He predicted normal but it was anomaly\n",
    "            normal_false += 1\n",
    "        elif predictions[i] == 1 and y_test[i] == 0:  # He predicted anomaly but it was normal\n",
    "            anomaly_false += 1\n",
    "        elif predictions[i] == 0 and y_test[i] == 0: # He predicted normal and it was normal\n",
    "            normal_correct += 1\n",
    "        elif predictions[i] == 1 and y_test[i] == 1: # He predicted anomaly and it was anomaly\n",
    "            anomaly_correct += 1\n",
    "            \n",
    "    total_cost = 10*anomaly_false + 500*normal_false\n",
    "    \n",
    "    # print ((\"False anomaly predictions are {}\".format(anomaly_false)))\n",
    "    # print ((\"False normal predictions are {}\".format(normal_false)))\n",
    "    # print ((\"Correct normal predictions are {}\".format(normal_correct)))\n",
    "    # print ((\"Correct anomaly predictions are {}\".format(anomaly_correct)))\n",
    "    # print ((\"Total Cost is {}\".format(total_cost)))\n",
    "    \n",
    "    return total_cost\n",
    "\n",
    "    "
   ]
  },
  {
   "cell_type": "markdown",
   "metadata": {},
   "source": [
    "# Feature Selection"
   ]
  },
  {
   "cell_type": "code",
   "execution_count": null,
   "metadata": {
    "collapsed": true
   },
   "outputs": [],
   "source": [
    "def feature_selection(X_train,y_train, num_of_features, X_test, y_test):\n",
    "# Build RF classifier to use in feature selection\n",
    "    knn = KNeighborsClassifier(n_neighbors=3)\n",
    "    #create new scoring parameter based on cost function\n",
    "    #cost_scorer = make_scorer(find_cost, greater_is_better= False)\n",
    "    # Build step forward feature selection\n",
    "    sfs1 = sfs(knn,\n",
    "               k_features= num_of_features,\n",
    "               forward=True,\n",
    "               floating=False,\n",
    "               verbose=2,\n",
    "               scoring=\"f1\",\n",
    "               cv=5,\n",
    "               n_jobs=-1)\n",
    "\n",
    "    # Perform SFFS\n",
    "    sfs1 = sfs1.fit(X_train, y_train)\n",
    "\n",
    "    feat_cols = list(sfs1.k_feature_idx_)\n",
    "    print(feat_cols)\n",
    "    \n",
    "    return feat_cols"
   ]
  },
  {
   "cell_type": "markdown",
   "metadata": {},
   "source": [
    "## Execute model"
   ]
  },
  {
   "cell_type": "code",
   "execution_count": null,
   "metadata": {
    "collapsed": true
   },
   "outputs": [],
   "source": [
    "def execute_classifier(use_training, clf, X_train, X_test, y_train, y_test):\n",
    "\n",
    "    clf.fit(X_train, y_train)\n",
    "    predictions = clf.predict(X_test)\n",
    "    # predictions = np.round(predictions)\n",
    "\n",
    "    if  use_training:\n",
    "        prediction_prob = clf.predict_proba(X_test)\n",
    "       \n",
    "        predictions = []\n",
    "        true_labels = []\n",
    "        for pr in prediction_prob:\n",
    "            if pr[0] > 0.95:\n",
    "                predictions.append(0)  # Neg\n",
    "            else:\n",
    "                predictions.append(1)  # Pos\n",
    "\n",
    "    accuracy = 0\n",
    "    for i in range(0, len(predictions)):\n",
    "        if predictions[i] == y_test[i]:\n",
    "            accuracy +=1\n",
    "\n",
    "\n",
    "    conf_mat = confusion_matrix(y_test, predictions)        \n",
    "    average_precision = average_precision_score(y_test, predictions)\n",
    "\n",
    "    #find average precision recall\n",
    "    print('Average precision-recall score: {0:0.2f}'.format(average_precision))\n",
    "    precision, recall, _ = precision_recall_curve(y_test, predictions)\n",
    "\n",
    "    #plot precision recall\n",
    "\n",
    "\n",
    "    find_cost( y_test, predictions)\n",
    "    print ((\"Total Cost is {}\".format(total_cost)))\n",
    "\n",
    "    return predictions, accuracy/len(predictions)"
   ]
  },
  {
   "cell_type": "markdown",
   "metadata": {},
   "source": [
    "# KNN with all features"
   ]
  },
  {
   "cell_type": "code",
   "execution_count": null,
   "metadata": {
    "collapsed": true
   },
   "outputs": [],
   "source": [
    "knn = KNeighborsClassifier(3)\n",
    "\n",
    "predictions, accuracy = execute_classifier(True, knn, X_train, X_test, y_train, y_test)\n",
    "print(\"Accuracy of KNN with 170 features, is {} %\".format(round((accuracy)*100, 5)))\n",
    "print_metrics()"
   ]
  },
  {
   "cell_type": "code",
   "execution_count": null,
   "metadata": {
    "collapsed": true
   },
   "outputs": [],
   "source": [
    "# feat_cols = [9, 14, 21, 33, 37, 57, 94, 161, 162, 165] with imbalanced data\n",
    "feat_cols = [0, 20, 71, 78, 89, 90, 100, 106, 142, 147]\n",
    "\n",
    "#for i in feat_cols :\n",
    "#feat_cols = feature_selection(X_train,y_train, 10, X_test, y_test)\n",
    "\n",
    "x_train_less_feat = X_train[:, feat_cols]\n",
    "x_test_less_feat = X_test.iloc[:,feat_cols]\n",
    "\n",
    "x_train_less_feat.shape"
   ]
  },
  {
   "cell_type": "code",
   "execution_count": null,
   "metadata": {
    "collapsed": true
   },
   "outputs": [],
   "source": [
    "x_test_less_feat.shape\n"
   ]
  },
  {
   "cell_type": "code",
   "execution_count": null,
   "metadata": {
    "collapsed": true
   },
   "outputs": [],
   "source": [
    "print(\"Accuracy Score : \",accuracy_score(predictions,y_test))\n",
    "print(\"F1 Score : \",f1_score(y_test, prediction, average=None))\n",
    "print(\"Presicion Score :\",precision_score(y_test, prediction, average=None))\n",
    "print(\"ROC AUC Score :\",roc_auc_score(y_test, prediction))\n",
    "print(\"confusion matrix:\", confusion_matrix(y_test, predictions))\n",
    "print(\"Cross Validation Score :\",cross_val_score(model, whole_dataset_x, whole_dataset_Y, cv=10, n_jobs=-1))  \n",
    "\n"
   ]
  },
  {
   "cell_type": "markdown",
   "metadata": {},
   "source": [
    "## After the feature selection"
   ]
  },
  {
   "cell_type": "code",
   "execution_count": null,
   "metadata": {
    "collapsed": true,
    "scrolled": true
   },
   "outputs": [],
   "source": [
    "# predictions after feature selection\n",
    "predictions_tocompare, accuracy_tocompare = execute_classifier(True, knn, x_train_less_feat, x_test_less_feat, y_train, y_test)\n",
    "print(\"Accuracy of KNN with {} features, is {} %\".format(len(feat_cols), round((accuracy_tocompare)*100, 5)))"
   ]
  },
  {
   "cell_type": "code",
   "execution_count": null,
   "metadata": {
    "collapsed": true
   },
   "outputs": [],
   "source": [
    "print(\"Accuracy Score : \",accuracy_score(predictions_tocompare,y_test))\n",
    "print(\"F1 Score : \",f1_score(y_test, predictions_tocompare, average=None))\n",
    "print(\"Presicion Score :\",precision_score(y_test, predictions_tocompare, average=None))\n",
    "print(\"ROC AUC Score :\",roc_auc_score(y_test, predictions_tocompare))\n",
    "print(\"confusion matrix:\", confusion_matrix(y_test, predictions_tocompare))\n",
    "print(\"Cross Validation Score :\",cross_val_score(knn, whole_dataset_x, whole_dataset_Y, cv=10, n_jobs=-1))  \n",
    "\n"
   ]
  }
 ],
 "metadata": {
  "kernelspec": {
   "display_name": "Python 3",
   "language": "python",
   "name": "python3"
  },
  "language_info": {
   "codemirror_mode": {
    "name": "ipython",
    "version": 3
   },
   "file_extension": ".py",
   "mimetype": "text/x-python",
   "name": "python",
   "nbconvert_exporter": "python",
   "pygments_lexer": "ipython3",
   "version": "3.5.4"
  }
 },
 "nbformat": 4,
 "nbformat_minor": 1
}
