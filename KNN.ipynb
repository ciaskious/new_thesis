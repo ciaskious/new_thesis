{
 "cells": [
  {
   "cell_type": "code",
   "execution_count": 3,
   "metadata": {
    "scrolled": true
   },
   "outputs": [
    {
     "name": "stderr",
     "output_type": "stream",
     "text": [
      "/usr/local/lib/python3.7/site-packages/sklearn/externals/joblib/__init__.py:15: DeprecationWarning: sklearn.externals.joblib is deprecated in 0.21 and will be removed in 0.23. Please import this functionality directly from joblib, which can be installed with: pip install joblib. If this warning is raised when loading pickled models, you may need to re-serialize those models with scikit-learn 0.21+.\n",
      "  warnings.warn(msg, category=DeprecationWarning)\n"
     ]
    }
   ],
   "source": [
    "from __future__ import division\n",
    "import random\n",
    "\n",
    "import pandas as pd\n",
    "import numpy as np\n",
    "\n",
    "from imblearn.combine import SMOTETomek\n",
    "from imblearn.under_sampling import TomekLinks\n",
    "from imblearn.over_sampling import SMOTE\n",
    "\n",
    "from sklearn.neighbors import KNeighborsClassifier\n",
    "\n",
    "from sklearn.metrics import precision_recall_curve\n",
    "from sklearn.metrics import average_precision_score\n",
    "from sklearn.metrics import confusion_matrix, make_scorer\n",
    "from mlxtend.feature_selection import SequentialFeatureSelector as sfs\n",
    "%matplotlib inline\n",
    "\n",
    "from sklearn.model_selection import cross_val_score\n",
    "from sklearn.model_selection import GridSearchCV\n",
    "import matplotlib.pyplot as plt\n",
    "import seaborn as sns\n",
    "plt.style.use('ggplot')\n",
    "from collections import Counter\n",
    "import os\n",
    "\n",
    "home_dir = os.getcwd()\n"
   ]
  },
  {
   "cell_type": "markdown",
   "metadata": {},
   "source": [
    "# Data preparation"
   ]
  },
  {
   "cell_type": "code",
   "execution_count": 4,
   "metadata": {},
   "outputs": [],
   "source": [
    "def normalize_data(x):\n",
    "    return (x - x.min(0)) / x.ptp(0)"
   ]
  },
  {
   "cell_type": "code",
   "execution_count": 5,
   "metadata": {},
   "outputs": [],
   "source": [
    "def preprocess_data(data):\n",
    "    data = data.replace(\"na\", 0)\n",
    "    data = data.replace(\"neg\", 0)\n",
    "    data = data.replace(\"pos\", 1)\n",
    "\n",
    "    return data"
   ]
  },
  {
   "cell_type": "code",
   "execution_count": 6,
   "metadata": {},
   "outputs": [],
   "source": [
    "def oversampling(data, target):\n",
    "\n",
    "    smote = SMOTE(ratio='minority')\n",
    "    X_sm, y_sm = smote.fit_sample(data, target)\n",
    "\n",
    "    print(sorted(Counter(y_sm).items()))\n",
    "\n",
    "    return X_sm, y_sm"
   ]
  },
  {
   "cell_type": "code",
   "execution_count": 7,
   "metadata": {},
   "outputs": [],
   "source": [
    "def undersampling(data, target):\n",
    "\n",
    "    tl = TomekLinks(return_indices=True, ratio='majority')\n",
    "    X_tl, y_tl, id_tl = tl.fit_sample(data, target)\n",
    "    print(sorted(Counter(y_tl).items()))\n",
    "\n",
    "    print('Removed indexes:', id_tl)\n",
    "\n",
    "    return X_tl, y_tl,"
   ]
  },
  {
   "cell_type": "code",
   "execution_count": 8,
   "metadata": {},
   "outputs": [],
   "source": [
    "def balance_dataset(data, target):\n",
    "    smt = SMOTETomek(ratio='auto')\n",
    "    X_smt, y_smt = smt.fit_sample(data, target)\n",
    "\n",
    "    print(sorted(Counter(y_smt).items()))\n",
    "    \n",
    "    return X_smt, y_smt"
   ]
  },
  {
   "cell_type": "code",
   "execution_count": 9,
   "metadata": {},
   "outputs": [],
   "source": [
    "def prepare():\n",
    "    \n",
    "    # our training and test datasets\n",
    "    X_train = pd.read_csv(home_dir + '/scania/training_set_new.csv')\n",
    "    X_test = pd.read_csv(home_dir + '/scania/test_set_new.csv') \n",
    "\n",
    "    dataset = pd.concat([X_train, X_test])\n",
    "    dataset_y = dataset.iloc[:, 0]\n",
    "    dataset_x = dataset.drop(dataset.columns[0], axis=1)\n",
    "    \n",
    "    X_train = preprocess_data(X_train)\n",
    "    X_test = preprocess_data(X_test)\n",
    "    \n",
    "    sns.countplot('class', data = X_train)\n",
    "    plt.title('Training: Anomaly (1) vs. Normal (0)')\n",
    "    plt.show()\n",
    "\n",
    "    sns.countplot('class', data = dataset)\n",
    "    plt.title('Dataset: Anomaly (1) vs. Normal (0)')\n",
    "    plt.show()\n",
    "    \n",
    "    y_train = X_train.iloc[:, 0]  # First column in labels\n",
    "    y_test = X_test.iloc[:, 0]  # First column in labels\n",
    "\n",
    "    X_train = X_train.drop(X_train.columns[0], axis=1)  # delete first column of xtrain\n",
    "    X_test = X_test.drop(X_test.columns[0], axis=1)  # delete first column of xtest    \n",
    "    X_train_balanced, y_train_balanced = balance_dataset(X_train, y_train)\n",
    "    \n",
    "    data = pd.DataFrame(np.column_stack((y_train_balanced, X_train_balanced)))\n",
    "    data = data.rename(columns={0: 'class'})\n",
    "    sns.countplot('class', data = data )\n",
    "    plt.title('Oversampling: Anomaly (1) vs. Normal (0)')\n",
    "    plt.show()\n",
    "  \n",
    "    return X_train_balanced, X_test, y_train_balanced, y_test, dataset_x, dataset_y"
   ]
  },
  {
   "cell_type": "code",
   "execution_count": 10,
   "metadata": {
    "scrolled": true
   },
   "outputs": [
    {
     "data": {
      "image/png": "[encoded data removed]",
      "text/plain": [
       "<Figure size 432x288 with 1 Axes>"
      ]
     },
     "metadata": {
      "needs_background": "light"
     },
     "output_type": "display_data"
    },
    {
     "data": {
      "image/png": "[encoded data removed]",
      "text/plain": [
       "<Figure size 432x288 with 1 Axes>"
      ]
     },
     "metadata": {
      "needs_background": "light"
     },
     "output_type": "display_data"
    },
    {
     "name": "stdout",
     "output_type": "stream",
     "text": [
      "[(0, 44245), (1, 44245)]\n"
     ]
    },
    {
     "data": {
      "image/png": "[encoded data removed]",
      "text/plain": [
       "<Figure size 432x288 with 1 Axes>"
      ]
     },
     "metadata": {
      "needs_background": "light"
     },
     "output_type": "display_data"
    }
   ],
   "source": [
    "X_train, X_test, y_train, y_test, whole_dataset_x, whole_dataset_y = prepare()"
   ]
  },
  {
   "cell_type": "code",
   "execution_count": null,
   "metadata": {},
   "outputs": [],
   "source": []
  },
  {
   "cell_type": "code",
   "execution_count": null,
   "metadata": {},
   "outputs": [],
   "source": [
    "\n"
   ]
  },
  {
   "cell_type": "code",
   "execution_count": null,
   "metadata": {},
   "outputs": [],
   "source": []
  },
  {
   "cell_type": "markdown",
   "metadata": {},
   "source": [
    "# Cost Function"
   ]
  },
  {
   "cell_type": "code",
   "execution_count": null,
   "metadata": {},
   "outputs": [],
   "source": [
    "def find_cost(y_test,predictions):\n",
    "    normal_false = 0\n",
    "    anomaly_false = 0\n",
    "    normal_correct = 0\n",
    "    anomaly_correct = 0\n",
    "    for i in range(0, len(predictions)):\n",
    "        if predictions[i] == 0 and y_test[i] == 1:  # He predicted normal but it was anomaly\n",
    "            normal_false += 1\n",
    "        elif predictions[i] == 1 and y_test[i] == 0:  # He predicted anomaly but it was normal\n",
    "            anomaly_false += 1\n",
    "        elif predictions[i] == 0 and y_test[i] == 0: # He predicted normal and it was normal\n",
    "            normal_correct += 1\n",
    "        elif predictions[i] == 1 and y_test[i] == 1: # He predicted anomaly and it was anomaly\n",
    "            anomaly_correct += 1\n",
    "            \n",
    "    total_cost = 10*anomaly_false + 500*normal_false\n",
    "    \n",
    "    # print ((\"False anomaly predictions are {}\".format(anomaly_false)))\n",
    "    # print ((\"False normal predictions are {}\".format(normal_false)))\n",
    "    # print ((\"Correct normal predictions are {}\".format(normal_correct)))\n",
    "    # print ((\"Correct anomaly predictions are {}\".format(anomaly_correct)))\n",
    "    # print ((\"Total Cost is {}\".format(total_cost)))\n",
    "    \n",
    "    return total_cost\n",
    "\n",
    "    "
   ]
  },
  {
   "cell_type": "markdown",
   "metadata": {},
   "source": [
    "# Feature Selection"
   ]
  },
  {
   "cell_type": "code",
   "execution_count": null,
   "metadata": {},
   "outputs": [],
   "source": [
    "def feature_selection(X_train,y_train, num_of_features, X_test, y_test):\n",
    "# Build RF classifier to use in feature selection\n",
    "    knn = KNeighborsClassifier(n_neighbors=3)\n",
    "    #create new scoring parameter based on cost function\n",
    "    #cost_scorer = make_scorer(find_cost, greater_is_better= False)\n",
    "    # Build step forward feature selection\n",
    "    sfs1 = sfs(knn,\n",
    "               k_features= num_of_features,\n",
    "               forward=True,\n",
    "               floating=False,\n",
    "               verbose=2,\n",
    "               scoring=\"f1\",\n",
    "               cv=5,\n",
    "               n_jobs=-1)\n",
    "\n",
    "    # Perform SFFS\n",
    "    sfs1 = sfs1.fit(X_train, y_train)\n",
    "\n",
    "    feat_cols = list(sfs1.k_feature_idx_)\n",
    "    print(feat_cols)\n",
    "    \n",
    "    return feat_cols"
   ]
  },
  {
   "cell_type": "markdown",
   "metadata": {},
   "source": [
    "## Execute model"
   ]
  },
  {
   "cell_type": "code",
   "execution_count": null,
   "metadata": {},
   "outputs": [],
   "source": [
    "def execute_classifier(use_training, clf, X_train, X_test, y_train, y_test):\n",
    "\n",
    "    clf.fit(X_train, y_train)\n",
    "    predictions = clf.predict(X_test)\n",
    "    # predictions = np.round(predictions)\n",
    "\n",
    "    if  use_training:\n",
    "        prediction_prob = clf.predict_proba(X_test)\n",
    "       \n",
    "        predictions = []\n",
    "        true_labels = []\n",
    "        for pr in prediction_prob:\n",
    "            if pr[0] > 0.95:\n",
    "                predictions.append(0)  # Neg\n",
    "            else:\n",
    "                predictions.append(1)  # Pos\n",
    "\n",
    "    accuracy = 0\n",
    "    for i in range(0, len(predictions)):\n",
    "        if predictions[i] == y_test[i]:\n",
    "            accuracy +=1\n",
    "\n",
    "\n",
    "    conf_mat = confusion_matrix(y_test, predictions)        \n",
    "    average_precision = average_precision_score(y_test, predictions)\n",
    "\n",
    "    #find average precision recall\n",
    "    print('Average precision-recall score: {0:0.2f}'.format(average_precision))\n",
    "    precision, recall, _ = precision_recall_curve(y_test, predictions)\n",
    "\n",
    "    #plot precision recall\n",
    "\n",
    "\n",
    "    find_cost( y_test, predictions)\n",
    "    print ((\"Total Cost is {}\".format(total_cost)))\n",
    "\n",
    "    return predictions, accuracy/len(predictions)"
   ]
  },
  {
   "cell_type": "markdown",
   "metadata": {},
   "source": [
    "# KNN with all features"
   ]
  },
  {
   "cell_type": "code",
   "execution_count": null,
   "metadata": {},
   "outputs": [],
   "source": [
    "knn = KNeighborsClassifier(3)\n",
    "\n",
    "predictions, accuracy = execute_classifier(True, knn, X_train, X_test, y_train, y_test)\n",
    "print(\"Accuracy of KNN with 170 features, is {} %\".format(round((accuracy)*100, 5)))\n",
    "print_metrics()"
   ]
  },
  {
   "cell_type": "code",
   "execution_count": null,
   "metadata": {},
   "outputs": [],
   "source": [
    "# feat_cols = [9, 14, 21, 33, 37, 57, 94, 161, 162, 165] with imbalanced data\n",
    "feat_cols = [0, 20, 71, 78, 89, 90, 100, 106, 142, 147]\n",
    "\n",
    "#for i in feat_cols :\n",
    "#feat_cols = feature_selection(X_train,y_train, 10, X_test, y_test)\n",
    "\n",
    "x_train_less_feat = X_train[:, feat_cols]\n",
    "x_test_less_feat = X_test.iloc[:,feat_cols]\n",
    "\n",
    "x_train_less_feat.shape"
   ]
  },
  {
   "cell_type": "code",
   "execution_count": null,
   "metadata": {},
   "outputs": [],
   "source": [
    "x_test_less_feat.shape\n"
   ]
  },
  {
   "cell_type": "code",
   "execution_count": null,
   "metadata": {},
   "outputs": [],
   "source": [
    "print(\"Accuracy Score : \",accuracy_score(predictions,y_test))\n",
    "print(\"F1 Score : \",f1_score(y_test, prediction, average=None))\n",
    "print(\"Presicion Score :\",precision_score(y_test, prediction, average=None))\n",
    "print(\"ROC AUC Score :\",roc_auc_score(y_test, prediction))\n",
    "print(\"confusion matrix:\", confusion_matrix(y_test, predictions))\n",
    "print(\"Cross Validation Score :\",cross_val_score(model, whole_dataset_x, whole_dataset_Y, cv=10, n_jobs=-1))  \n",
    "\n"
   ]
  },
  {
   "cell_type": "markdown",
   "metadata": {},
   "source": [
    "## After the feature selection"
   ]
  },
  {
   "cell_type": "code",
   "execution_count": null,
   "metadata": {
    "scrolled": true
   },
   "outputs": [],
   "source": [
    "# predictions after feature selection\n",
    "predictions_tocompare, accuracy_tocompare = execute_classifier(True, knn, x_train_less_feat, x_test_less_feat, y_train, y_test)\n",
    "print(\"Accuracy of KNN with {} features, is {} %\".format(len(feat_cols), round((accuracy_tocompare)*100, 5)))"
   ]
  },
  {
   "cell_type": "code",
   "execution_count": null,
   "metadata": {},
   "outputs": [],
   "source": [
    "print(\"Accuracy Score : \",accuracy_score(predictions_tocompare,y_test))\n",
    "print(\"F1 Score : \",f1_score(y_test, predictions_tocompare, average=None))\n",
    "print(\"Presicion Score :\",precision_score(y_test, predictions_tocompare, average=None))\n",
    "print(\"ROC AUC Score :\",roc_auc_score(y_test, predictions_tocompare))\n",
    "print(\"confusion matrix:\", confusion_matrix(y_test, predictions_tocompare))\n",
    "print(\"Cross Validation Score :\",cross_val_score(knn, whole_dataset_x, whole_dataset_Y, cv=10, n_jobs=-1))  \n",
    "\n"
   ]
  },
  {
   "cell_type": "code",
   "execution_count": null,
   "metadata": {},
   "outputs": [],
   "source": [
    "n_neighbors = [3,5,11,19]\n",
    "weights = [\"uniform\", \"distance\"]\n",
    "metric = [\"euclidean\", \"manhattan\"]\n",
    "\n",
    "hyperF = dict(n_neighbors = n_neighbors, weights = weights,metric = metric)\n",
    "\n",
    "gridF = GridSearchCV(knn, hyperF, scoring=\"f1\", cv=5, verbose = 1, \n",
    "                      n_jobs = -1)\n",
    "bestF = gridF.fit(x_train_less_feat, y_train)\n",
    "\n",
    "gridF.best_params_"
   ]
  },
  {
   "cell_type": "code",
   "execution_count": null,
   "metadata": {},
   "outputs": [],
   "source": [
    "best_grid = gridF.best_estimator_\n",
    "#predictions = best_grid.predict(x_test_less_feat)\n",
    "# predictions = np.round(predictions)\n",
    "\n",
    "prediction_prob = best_grid.predict_proba(x_test_less_feat)\n",
    "       \n",
    "predictions = []\n",
    "true_labels = []\n",
    "for pr in prediction_prob:\n",
    "    if pr[0] > 0.95:\n",
    "        predictions.append(0)  # Neg\n",
    "    else:\n",
    "        predictions.append(1)  # Pos\n",
    "\n",
    "accuracy = 0\n",
    "for i in range(0, len(predictions)):\n",
    "    if predictions[i] == y_test[i]:\n",
    "        accuracy +=1\n",
    "\n",
    "\n",
    "average_precision = average_precision_score(y_test, predictions)\n",
    "\n",
    "\n",
    "total_cost = find_cost(y_test, predictions)"
   ]
  },
  {
   "cell_type": "markdown",
   "metadata": {},
   "source": [
    "####  Evaluation metrics after Grid Search"
   ]
  },
  {
   "cell_type": "code",
   "execution_count": null,
   "metadata": {},
   "outputs": [],
   "source": [
    "print(\"Accuracy Score : \",accuracy_score(prediction,y_test))\n",
    "print(\"Total Cost is : \", total_cost)\n",
    "print(\"F1 Score : \",f1_score(y_test, prediction, average=None))\n",
    "print(\"Presicion Score :\",precision_score(y_test, prediction, average=None))\n",
    "print(\"ROC AUC Score :\",roc_auc_score(y_test, prediction))\n",
    "print(\"confusion matrix:\", confusion_matrix(y_test, predictions))\n",
    "print(\"Cross Validation Score :\",cross_val_score(model, whole_dataset_x, whole_dataset_Y, cv=10, n_jobs=-1))  \n",
    "\n"
   ]
  }
 ],
 "metadata": {
  "kernelspec": {
   "display_name": "Python 3",
   "language": "python",
   "name": "python3"
  },
  "language_info": {
   "codemirror_mode": {
    "name": "ipython",
    "version": 3
   },
   "file_extension": ".py",
   "mimetype": "text/x-python",
   "name": "python",
   "nbconvert_exporter": "python",
   "pygments_lexer": "ipython3",
   "version": "3.7.1"
  }
 },
 "nbformat": 4,
 "nbformat_minor": 1
}
